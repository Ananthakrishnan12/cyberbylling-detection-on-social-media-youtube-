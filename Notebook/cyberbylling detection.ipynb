{
 "cells": [
  {
   "cell_type": "markdown",
   "metadata": {},
   "source": [
    "# Importing Required Libaries:"
   ]
  },
  {
   "cell_type": "code",
   "execution_count": 45,
   "metadata": {},
   "outputs": [],
   "source": [
    "import numpy as np\n",
    "import pandas as pd\n",
    "import matplotlib.pyplot as plt\n",
    "import seaborn as sns\n",
    "\n",
    "import re\n",
    "\n",
    "from sklearn.feature_extraction.text import TfidfVectorizer\n",
    "from imblearn.over_sampling import SMOTE\n",
    "from sklearn.model_selection import train_test_split\n",
    "\n",
    "from sklearn.linear_model import LogisticRegression\n",
    "from sklearn.tree import DecisionTreeClassifier\n",
    "from sklearn.ensemble import RandomForestClassifier\n",
    "\n",
    "from sklearn.metrics import confusion_matrix,ConfusionMatrixDisplay,precision_score,recall_score,accuracy_score\n",
    "\n",
    "import pickle\n",
    "\n",
    "import warnings\n",
    "warnings.simplefilter(\"ignore\")"
   ]
  },
  {
   "cell_type": "markdown",
   "metadata": {},
   "source": [
    "# Read the Data:"
   ]
  },
  {
   "cell_type": "code",
   "execution_count": 2,
   "metadata": {},
   "outputs": [],
   "source": [
    "data=pd.read_csv(r\"E:\\Protfolio Projects\\Machince Learning\\cyberbylling detection\\Dataset\\youtube_parsed_dataset.csv\")"
   ]
  },
  {
   "cell_type": "markdown",
   "metadata": {},
   "source": [
    "# Data Description:"
   ]
  },
  {
   "cell_type": "code",
   "execution_count": 3,
   "metadata": {},
   "outputs": [
    {
     "data": {
      "text/html": [
       "<div>\n",
       "<style scoped>\n",
       "    .dataframe tbody tr th:only-of-type {\n",
       "        vertical-align: middle;\n",
       "    }\n",
       "\n",
       "    .dataframe tbody tr th {\n",
       "        vertical-align: top;\n",
       "    }\n",
       "\n",
       "    .dataframe thead th {\n",
       "        text-align: right;\n",
       "    }\n",
       "</style>\n",
       "<table border=\"1\" class=\"dataframe\">\n",
       "  <thead>\n",
       "    <tr style=\"text-align: right;\">\n",
       "      <th></th>\n",
       "      <th>index</th>\n",
       "      <th>UserIndex</th>\n",
       "      <th>Text</th>\n",
       "      <th>Number of Comments</th>\n",
       "      <th>Number of Subscribers</th>\n",
       "      <th>Membership Duration</th>\n",
       "      <th>Number of Uploads</th>\n",
       "      <th>Profanity in UserID</th>\n",
       "      <th>Age</th>\n",
       "      <th>oh_label</th>\n",
       "    </tr>\n",
       "  </thead>\n",
       "  <tbody>\n",
       "    <tr>\n",
       "      <th>0</th>\n",
       "      <td>0</td>\n",
       "      <td>X1</td>\n",
       "      <td>Does N.e.bodyelse Hear her Crazy ass Screamin ...</td>\n",
       "      <td>10</td>\n",
       "      <td>1</td>\n",
       "      <td>3</td>\n",
       "      <td>3</td>\n",
       "      <td>0</td>\n",
       "      <td>15</td>\n",
       "      <td>0</td>\n",
       "    </tr>\n",
       "    <tr>\n",
       "      <th>1</th>\n",
       "      <td>1</td>\n",
       "      <td>X2</td>\n",
       "      <td>There are so many things that are incorrect wi...</td>\n",
       "      <td>3</td>\n",
       "      <td>0</td>\n",
       "      <td>6</td>\n",
       "      <td>5</td>\n",
       "      <td>0</td>\n",
       "      <td>31</td>\n",
       "      <td>0</td>\n",
       "    </tr>\n",
       "    <tr>\n",
       "      <th>2</th>\n",
       "      <td>2</td>\n",
       "      <td>X3</td>\n",
       "      <td>3:26 hahah my boyfriend showed this song to me...</td>\n",
       "      <td>7</td>\n",
       "      <td>0</td>\n",
       "      <td>3</td>\n",
       "      <td>5</td>\n",
       "      <td>0</td>\n",
       "      <td>43</td>\n",
       "      <td>1</td>\n",
       "    </tr>\n",
       "    <tr>\n",
       "      <th>3</th>\n",
       "      <td>3</td>\n",
       "      <td>X2218</td>\n",
       "      <td>dick beyonce fuck y a ass hole you are truely ...</td>\n",
       "      <td>34</td>\n",
       "      <td>0</td>\n",
       "      <td>3</td>\n",
       "      <td>5</td>\n",
       "      <td>0</td>\n",
       "      <td>44</td>\n",
       "      <td>1</td>\n",
       "    </tr>\n",
       "    <tr>\n",
       "      <th>4</th>\n",
       "      <td>4</td>\n",
       "      <td>X5</td>\n",
       "      <td>DongHaeTaemin and Kai ;A; luhansehun and bacon...</td>\n",
       "      <td>11</td>\n",
       "      <td>173</td>\n",
       "      <td>5</td>\n",
       "      <td>5</td>\n",
       "      <td>0</td>\n",
       "      <td>21</td>\n",
       "      <td>0</td>\n",
       "    </tr>\n",
       "  </tbody>\n",
       "</table>\n",
       "</div>"
      ],
      "text/plain": [
       "   index UserIndex                                               Text  \\\n",
       "0      0        X1  Does N.e.bodyelse Hear her Crazy ass Screamin ...   \n",
       "1      1        X2  There are so many things that are incorrect wi...   \n",
       "2      2        X3  3:26 hahah my boyfriend showed this song to me...   \n",
       "3      3     X2218  dick beyonce fuck y a ass hole you are truely ...   \n",
       "4      4        X5  DongHaeTaemin and Kai ;A; luhansehun and bacon...   \n",
       "\n",
       "   Number of Comments  Number of Subscribers  Membership Duration  \\\n",
       "0                  10                      1                    3   \n",
       "1                   3                      0                    6   \n",
       "2                   7                      0                    3   \n",
       "3                  34                      0                    3   \n",
       "4                  11                    173                    5   \n",
       "\n",
       "   Number of Uploads  Profanity in UserID  Age  oh_label  \n",
       "0                  3                    0   15         0  \n",
       "1                  5                    0   31         0  \n",
       "2                  5                    0   43         1  \n",
       "3                  5                    0   44         1  \n",
       "4                  5                    0   21         0  "
      ]
     },
     "execution_count": 3,
     "metadata": {},
     "output_type": "execute_result"
    }
   ],
   "source": [
    "data.head(5)"
   ]
  },
  {
   "cell_type": "code",
   "execution_count": 4,
   "metadata": {},
   "outputs": [
    {
     "data": {
      "text/html": [
       "<div>\n",
       "<style scoped>\n",
       "    .dataframe tbody tr th:only-of-type {\n",
       "        vertical-align: middle;\n",
       "    }\n",
       "\n",
       "    .dataframe tbody tr th {\n",
       "        vertical-align: top;\n",
       "    }\n",
       "\n",
       "    .dataframe thead th {\n",
       "        text-align: right;\n",
       "    }\n",
       "</style>\n",
       "<table border=\"1\" class=\"dataframe\">\n",
       "  <thead>\n",
       "    <tr style=\"text-align: right;\">\n",
       "      <th></th>\n",
       "      <th>index</th>\n",
       "      <th>UserIndex</th>\n",
       "      <th>Text</th>\n",
       "      <th>Number of Comments</th>\n",
       "      <th>Number of Subscribers</th>\n",
       "      <th>Membership Duration</th>\n",
       "      <th>Number of Uploads</th>\n",
       "      <th>Profanity in UserID</th>\n",
       "      <th>Age</th>\n",
       "      <th>oh_label</th>\n",
       "    </tr>\n",
       "  </thead>\n",
       "  <tbody>\n",
       "    <tr>\n",
       "      <th>3459</th>\n",
       "      <td>3464</td>\n",
       "      <td>X3465</td>\n",
       "      <td>She pretty I love this song I miss the old kel...</td>\n",
       "      <td>15</td>\n",
       "      <td>2</td>\n",
       "      <td>4</td>\n",
       "      <td>7</td>\n",
       "      <td>0</td>\n",
       "      <td>23</td>\n",
       "      <td>1</td>\n",
       "    </tr>\n",
       "    <tr>\n",
       "      <th>3460</th>\n",
       "      <td>3465</td>\n",
       "      <td>X3466</td>\n",
       "      <td>Status-Online Im ZxkillergirlzX! I'm Zxkillerg...</td>\n",
       "      <td>4</td>\n",
       "      <td>28</td>\n",
       "      <td>4</td>\n",
       "      <td>23</td>\n",
       "      <td>1</td>\n",
       "      <td>15</td>\n",
       "      <td>0</td>\n",
       "    </tr>\n",
       "    <tr>\n",
       "      <th>3461</th>\n",
       "      <td>3466</td>\n",
       "      <td>X3467</td>\n",
       "      <td>JR so cute EXO M Better I agree like yeah yeah...</td>\n",
       "      <td>23</td>\n",
       "      <td>0</td>\n",
       "      <td>5</td>\n",
       "      <td>3</td>\n",
       "      <td>0</td>\n",
       "      <td>33</td>\n",
       "      <td>0</td>\n",
       "    </tr>\n",
       "    <tr>\n",
       "      <th>3462</th>\n",
       "      <td>3467</td>\n",
       "      <td>X3468</td>\n",
       "      <td>! !</td>\n",
       "      <td>5</td>\n",
       "      <td>0</td>\n",
       "      <td>6</td>\n",
       "      <td>5</td>\n",
       "      <td>0</td>\n",
       "      <td>38</td>\n",
       "      <td>0</td>\n",
       "    </tr>\n",
       "    <tr>\n",
       "      <th>3463</th>\n",
       "      <td>3468</td>\n",
       "      <td>X3469</td>\n",
       "      <td>great video and MERRY CHRISTMAS from greece :*...</td>\n",
       "      <td>27</td>\n",
       "      <td>220</td>\n",
       "      <td>4</td>\n",
       "      <td>30</td>\n",
       "      <td>0</td>\n",
       "      <td>18</td>\n",
       "      <td>0</td>\n",
       "    </tr>\n",
       "  </tbody>\n",
       "</table>\n",
       "</div>"
      ],
      "text/plain": [
       "      index UserIndex                                               Text  \\\n",
       "3459   3464     X3465  She pretty I love this song I miss the old kel...   \n",
       "3460   3465     X3466  Status-Online Im ZxkillergirlzX! I'm Zxkillerg...   \n",
       "3461   3466     X3467  JR so cute EXO M Better I agree like yeah yeah...   \n",
       "3462   3467     X3468                                                ! !   \n",
       "3463   3468     X3469  great video and MERRY CHRISTMAS from greece :*...   \n",
       "\n",
       "      Number of Comments  Number of Subscribers  Membership Duration  \\\n",
       "3459                  15                      2                    4   \n",
       "3460                   4                     28                    4   \n",
       "3461                  23                      0                    5   \n",
       "3462                   5                      0                    6   \n",
       "3463                  27                    220                    4   \n",
       "\n",
       "      Number of Uploads  Profanity in UserID  Age  oh_label  \n",
       "3459                  7                    0   23         1  \n",
       "3460                 23                    1   15         0  \n",
       "3461                  3                    0   33         0  \n",
       "3462                  5                    0   38         0  \n",
       "3463                 30                    0   18         0  "
      ]
     },
     "execution_count": 4,
     "metadata": {},
     "output_type": "execute_result"
    }
   ],
   "source": [
    "data.tail(5)"
   ]
  },
  {
   "cell_type": "code",
   "execution_count": 5,
   "metadata": {},
   "outputs": [
    {
     "name": "stdout",
     "output_type": "stream",
     "text": [
      "No.of rows in the data: 3464\n",
      "No.of  columns in the data: 10\n"
     ]
    }
   ],
   "source": [
    "data.shape\n",
    "print(\"No.of rows in the data:\",data.shape[0])\n",
    "print(\"No.of  columns in the data:\",data.shape[1])"
   ]
  },
  {
   "cell_type": "markdown",
   "metadata": {},
   "source": [
    "# Data Preprocessing:\n",
    "1) check any duplicates value in the dataset.\n",
    "2) convert Text to numerical Terms."
   ]
  },
  {
   "cell_type": "code",
   "execution_count": 6,
   "metadata": {},
   "outputs": [],
   "source": [
    "dataset=data.drop([\"index\",\"UserIndex\",\"Number of Comments\",\"Number of Subscribers\",\"Membership Duration\",\"Number of Uploads\",\"Profanity in UserID\",\"Age\"],axis=1)"
   ]
  },
  {
   "cell_type": "code",
   "execution_count": 7,
   "metadata": {},
   "outputs": [
    {
     "data": {
      "text/html": [
       "<div>\n",
       "<style scoped>\n",
       "    .dataframe tbody tr th:only-of-type {\n",
       "        vertical-align: middle;\n",
       "    }\n",
       "\n",
       "    .dataframe tbody tr th {\n",
       "        vertical-align: top;\n",
       "    }\n",
       "\n",
       "    .dataframe thead th {\n",
       "        text-align: right;\n",
       "    }\n",
       "</style>\n",
       "<table border=\"1\" class=\"dataframe\">\n",
       "  <thead>\n",
       "    <tr style=\"text-align: right;\">\n",
       "      <th></th>\n",
       "      <th>Text</th>\n",
       "      <th>oh_label</th>\n",
       "    </tr>\n",
       "  </thead>\n",
       "  <tbody>\n",
       "    <tr>\n",
       "      <th>0</th>\n",
       "      <td>Does N.e.bodyelse Hear her Crazy ass Screamin ...</td>\n",
       "      <td>0</td>\n",
       "    </tr>\n",
       "    <tr>\n",
       "      <th>1</th>\n",
       "      <td>There are so many things that are incorrect wi...</td>\n",
       "      <td>0</td>\n",
       "    </tr>\n",
       "    <tr>\n",
       "      <th>2</th>\n",
       "      <td>3:26 hahah my boyfriend showed this song to me...</td>\n",
       "      <td>1</td>\n",
       "    </tr>\n",
       "    <tr>\n",
       "      <th>3</th>\n",
       "      <td>dick beyonce fuck y a ass hole you are truely ...</td>\n",
       "      <td>1</td>\n",
       "    </tr>\n",
       "    <tr>\n",
       "      <th>4</th>\n",
       "      <td>DongHaeTaemin and Kai ;A; luhansehun and bacon...</td>\n",
       "      <td>0</td>\n",
       "    </tr>\n",
       "  </tbody>\n",
       "</table>\n",
       "</div>"
      ],
      "text/plain": [
       "                                                Text  oh_label\n",
       "0  Does N.e.bodyelse Hear her Crazy ass Screamin ...         0\n",
       "1  There are so many things that are incorrect wi...         0\n",
       "2  3:26 hahah my boyfriend showed this song to me...         1\n",
       "3  dick beyonce fuck y a ass hole you are truely ...         1\n",
       "4  DongHaeTaemin and Kai ;A; luhansehun and bacon...         0"
      ]
     },
     "execution_count": 7,
     "metadata": {},
     "output_type": "execute_result"
    }
   ],
   "source": [
    "dataset.head(5)"
   ]
  },
  {
   "cell_type": "code",
   "execution_count": 8,
   "metadata": {},
   "outputs": [],
   "source": [
    "def case_conversion():\n",
    "    dataset.Text=[i.lower() for i in dataset.Text.values]\n",
    "    \n",
    "def replace_shorthands():\n",
    "       shorthands = {\n",
    "        \"u\": \"you\",\n",
    "        \"r\": \"are\",\n",
    "        \"ur\": \"your\",\n",
    "        \"im\": \"I am\",\n",
    "        \"dont\": \"do not\",\n",
    "        \"cant\": \"cannot\",\n",
    "        \"wont\": \"will not\",\n",
    "        \"ill\": \"I will\",\n",
    "        \"btw\": \"by the way\",\n",
    "        \"omg\": \"oh my god\",\n",
    "        \"wouldn't\":\"would not\",\n",
    "        \"i've\":\"i have\",\n",
    "        \"y'all\":\"you all\",\n",
    "        \"don't\":\"do not\",\n",
    "        \"i'm\":\"i am\",\n",
    "        \"can't\":\"cannot not\",\n",
    "        \"he's\":\"he is\"\n",
    "        # Add more shorthands as needed\n",
    "    }\n",
    "       pattern = re.compile(r'\\b(' + '|'.join(re.escape(word) for word in shorthands.keys()) + r')\\b')\n",
    "       dataset.Text = [pattern.sub(lambda x: shorthands[x.group()], text)for text in dataset.Text.values]\n",
    "       \n",
    "    \n",
    "def remove_specials():\n",
    "    dataset.Text=[re.sub(r\"[^a-zA-z]\",\" \",text)for text in dataset.Text.values]\n",
    "    \n",
    "def Normalize_spaces():\n",
    "    dataset.Text=[re.sub(r\"\\s+\",\" \",text) for text in dataset.Text.values]"
   ]
  },
  {
   "cell_type": "code",
   "execution_count": 9,
   "metadata": {},
   "outputs": [],
   "source": [
    "case_conversion()\n",
    "replace_shorthands()\n",
    "remove_specials()\n",
    "Normalize_spaces()"
   ]
  },
  {
   "cell_type": "code",
   "execution_count": 10,
   "metadata": {},
   "outputs": [
    {
     "data": {
      "text/plain": [
       "'does n e bodyelse hear her crazy ass screamin hoe everytime she say s stupid hoe lol did n e body see chris browns face at wen nicki was touchin him if you worked out we would not be lookin at that body d she looks so tired she has ah tatto on her ass wtf is this o o instagram deze nutt s in yo mouth lmao this video song made me ah lil umm in the mood ___ we re all in this together motherfucka wow you have an amazing voice and i have never said that about anyone '"
      ]
     },
     "execution_count": 10,
     "metadata": {},
     "output_type": "execute_result"
    }
   ],
   "source": [
    "dataset[\"Text\"][0]"
   ]
  },
  {
   "cell_type": "code",
   "execution_count": 11,
   "metadata": {},
   "outputs": [
    {
     "data": {
      "text/plain": [
       "0    does n e bodyelse hear her crazy ass screamin ...\n",
       "1    there are so many things that are incorrect wi...\n",
       "2     hahah my boyfriend showed this song to me i l...\n",
       "3    dick beyonce fuck y a ass hole you are truely ...\n",
       "4    donghaetaemin and kai a luhansehun and bacon x...\n",
       "Name: Text, dtype: object"
      ]
     },
     "execution_count": 11,
     "metadata": {},
     "output_type": "execute_result"
    }
   ],
   "source": [
    "x=dataset[\"Text\"]\n",
    "x.head(5)"
   ]
  },
  {
   "cell_type": "code",
   "execution_count": 12,
   "metadata": {},
   "outputs": [
    {
     "data": {
      "text/plain": [
       "0       0\n",
       "1       0\n",
       "2       1\n",
       "3       1\n",
       "4       0\n",
       "       ..\n",
       "3459    1\n",
       "3460    0\n",
       "3461    0\n",
       "3462    0\n",
       "3463    0\n",
       "Name: oh_label, Length: 3464, dtype: int64"
      ]
     },
     "execution_count": 12,
     "metadata": {},
     "output_type": "execute_result"
    }
   ],
   "source": [
    "y=dataset[\"oh_label\"]\n",
    "y"
   ]
  },
  {
   "cell_type": "code",
   "execution_count": 13,
   "metadata": {},
   "outputs": [
    {
     "data": {
      "text/plain": [
       "0    3047\n",
       "1     417\n",
       "Name: oh_label, dtype: int64"
      ]
     },
     "execution_count": 13,
     "metadata": {},
     "output_type": "execute_result"
    }
   ],
   "source": [
    "dataset[\"oh_label\"].value_counts()"
   ]
  },
  {
   "cell_type": "markdown",
   "metadata": {},
   "source": [
    "# Data Transformation:\n",
    "converting categorical values into numerical terms using TFIDF vectors..."
   ]
  },
  {
   "cell_type": "code",
   "execution_count": 17,
   "metadata": {},
   "outputs": [
    {
     "name": "stdout",
     "output_type": "stream",
     "text": [
      "  (0, 1766)\t0.08104362543133858\n",
      "  (0, 176)\t0.05398655520004745\n",
      "  (0, 34781)\t0.07013269292979427\n",
      "  (0, 27526)\t0.06754219470701223\n",
      "  (0, 1511)\t0.03287290827577696\n",
      "  (0, 43583)\t0.07434844925477611\n",
      "  (0, 1343)\t0.0677976008640735\n",
      "  (0, 1474)\t0.0577905478400924\n",
      "  (0, 17706)\t0.08151160171893303\n",
      "  (0, 45002)\t0.07256210051945962\n",
      "  (0, 26499)\t0.18673241461210388\n",
      "  (0, 41039)\t0.10263958806526263\n",
      "  (0, 1117)\t0.04619213021641356\n",
      "  (0, 33010)\t0.06258543814604112\n",
      "  (0, 1)\t0.14685116637523807\n",
      "  (0, 26357)\t0.1519332600498972\n",
      "  (0, 40348)\t0.029661408789179958\n",
      "  (0, 42242)\t0.13196295124540572\n",
      "  (0, 23359)\t0.10300677871568541\n",
      "  (0, 25133)\t0.040686390939914226\n",
      "  (0, 24337)\t0.06630433040846669\n",
      "  (0, 37525)\t0.05080821429797832\n",
      "  (0, 43266)\t0.04955347766708931\n",
      "  (0, 23634)\t0.09288794119834279\n",
      "  (0, 26557)\t0.10746582272652991\n",
      "  :\t:\n",
      "  (3463, 39547)\t0.17517032468664848\n",
      "  (3463, 26477)\t0.033643860029967235\n",
      "  (3463, 45227)\t0.09723363160075407\n",
      "  (3463, 21360)\t0.06787159067776263\n",
      "  (3463, 16340)\t0.051290255316497405\n",
      "  (3463, 13028)\t0.05921649279613414\n",
      "  (3463, 3879)\t0.028288113115041678\n",
      "  (3463, 44329)\t0.01916825682221758\n",
      "  (3463, 24485)\t0.025118398705856613\n",
      "  (3463, 23333)\t0.016384149684625936\n",
      "  (3463, 23986)\t0.0396636297785285\n",
      "  (3463, 15015)\t0.07037752976454184\n",
      "  (3463, 27352)\t0.029427260440025717\n",
      "  (3463, 14623)\t0.017947590279695027\n",
      "  (3463, 1511)\t0.014545390610817976\n",
      "  (3463, 45002)\t0.032106806210836614\n",
      "  (3463, 1117)\t0.020438793291635615\n",
      "  (3463, 40348)\t0.05249754883703849\n",
      "  (3463, 25133)\t0.03600529918440935\n",
      "  (3463, 37525)\t0.08992515259099318\n",
      "  (3463, 43266)\t0.02192610044555674\n",
      "  (3463, 19570)\t0.016347336193601653\n",
      "  (3463, 40534)\t0.05839484157662986\n",
      "  (3463, 20261)\t0.02803590279946269\n",
      "  (3463, 37348)\t0.01685815069238451\n"
     ]
    }
   ],
   "source": [
    "TFIDF=TfidfVectorizer()\n",
    "X=TFIDF.fit_transform(x)\n",
    "print(X)"
   ]
  },
  {
   "cell_type": "markdown",
   "metadata": {},
   "source": [
    "# Resampling:\n",
    "converting Imbalanced data into Balanced data using SMOTE:"
   ]
  },
  {
   "cell_type": "code",
   "execution_count": 18,
   "metadata": {},
   "outputs": [
    {
     "name": "stderr",
     "output_type": "stream",
     "text": [
      "  File \"e:\\Protfolio Projects\\Machince Learning\\cyberbylling detection\\cyberbylling\\lib\\site-packages\\joblib\\externals\\loky\\backend\\context.py\", line 257, in _count_physical_cores\n",
      "    cpu_info = subprocess.run(\n",
      "  File \"e:\\Protfolio Projects\\Machince Learning\\cyberbylling detection\\cyberbylling\\lib\\subprocess.py\", line 489, in run\n",
      "    with Popen(*popenargs, **kwargs) as process:\n",
      "  File \"e:\\Protfolio Projects\\Machince Learning\\cyberbylling detection\\cyberbylling\\lib\\subprocess.py\", line 854, in __init__\n",
      "    self._execute_child(args, executable, preexec_fn, close_fds,\n",
      "  File \"e:\\Protfolio Projects\\Machince Learning\\cyberbylling detection\\cyberbylling\\lib\\subprocess.py\", line 1307, in _execute_child\n",
      "    hp, ht, pid, tid = _winapi.CreateProcess(executable, args,\n"
     ]
    }
   ],
   "source": [
    "smote=SMOTE(sampling_strategy=\"minority\")\n",
    "X_sm,y_sm=smote.fit_resample(X,y)"
   ]
  },
  {
   "cell_type": "code",
   "execution_count": 19,
   "metadata": {},
   "outputs": [
    {
     "data": {
      "text/plain": [
       "0    3047\n",
       "1    3047\n",
       "Name: oh_label, dtype: int64"
      ]
     },
     "execution_count": 19,
     "metadata": {},
     "output_type": "execute_result"
    }
   ],
   "source": [
    "y_sm.value_counts()"
   ]
  },
  {
   "cell_type": "markdown",
   "metadata": {},
   "source": [
    "# Splitting the data into training data and Testing data: training_data=80% ; Testing_data=20%"
   ]
  },
  {
   "cell_type": "code",
   "execution_count": 21,
   "metadata": {},
   "outputs": [],
   "source": [
    "X_train,X_test,y_train,y_test=train_test_split(X_sm,y_sm,test_size=0.20)"
   ]
  },
  {
   "cell_type": "code",
   "execution_count": 22,
   "metadata": {},
   "outputs": [
    {
     "name": "stdout",
     "output_type": "stream",
     "text": [
      "(4875, 46129)\n",
      "(1219, 46129)\n",
      "(4875,)\n",
      "(1219,)\n"
     ]
    }
   ],
   "source": [
    "print(X_train.shape)\n",
    "print(X_test.shape)\n",
    "print(y_train.shape)\n",
    "print(y_test.shape)"
   ]
  },
  {
   "cell_type": "markdown",
   "metadata": {},
   "source": [
    "# Model Training:"
   ]
  },
  {
   "cell_type": "code",
   "execution_count": 24,
   "metadata": {},
   "outputs": [
    {
     "data": {
      "text/plain": [
       "0.9148717948717948"
      ]
     },
     "execution_count": 24,
     "metadata": {},
     "output_type": "execute_result"
    }
   ],
   "source": [
    "LR=LogisticRegression()\n",
    "LR.fit(X_train,y_train)\n",
    "LR.score(X_train,y_train)"
   ]
  },
  {
   "cell_type": "code",
   "execution_count": 25,
   "metadata": {},
   "outputs": [
    {
     "data": {
      "text/plain": [
       "0.8457752255947498"
      ]
     },
     "execution_count": 25,
     "metadata": {},
     "output_type": "execute_result"
    }
   ],
   "source": [
    "LR.score(X_test,y_test)"
   ]
  },
  {
   "cell_type": "code",
   "execution_count": 26,
   "metadata": {},
   "outputs": [],
   "source": [
    "y_pred_LR=LR.predict(X_test)"
   ]
  },
  {
   "cell_type": "code",
   "execution_count": 28,
   "metadata": {},
   "outputs": [
    {
     "data": {
      "text/plain": [
       "<sklearn.metrics._plot.confusion_matrix.ConfusionMatrixDisplay at 0xa262b22850>"
      ]
     },
     "execution_count": 28,
     "metadata": {},
     "output_type": "execute_result"
    },
    {
     "data": {
      "image/png": "[encoded data removed]",
      "text/plain": [
       "<Figure size 640x480 with 2 Axes>"
      ]
     },
     "metadata": {},
     "output_type": "display_data"
    }
   ],
   "source": [
    "cm=confusion_matrix(y_test,y_pred_LR)\n",
    "cm_display=ConfusionMatrixDisplay(cm)\n",
    "cm_display.plot()"
   ]
  },
  {
   "cell_type": "code",
   "execution_count": 32,
   "metadata": {},
   "outputs": [
    {
     "name": "stdout",
     "output_type": "stream",
     "text": [
      "Accurcay_score for Logistic Regression: 0.8457752255947498\n",
      "Precision_score for Logistic Regression: 0.8735632183908046\n",
      "Recall_score for Logistic regression: 0.8273716951788491\n"
     ]
    }
   ],
   "source": [
    "print(\"Accurcay_score for Logistic Regression:\",accuracy_score(y_test,y_pred_LR))\n",
    "print(\"Precision_score for Logistic Regression:\",precision_score(y_test,y_pred_LR))\n",
    "print(\"Recall_score for Logistic regression:\",recall_score(y_test,y_pred_LR))"
   ]
  },
  {
   "cell_type": "code",
   "execution_count": 33,
   "metadata": {},
   "outputs": [
    {
     "data": {
      "text/plain": [
       "0.9991794871794871"
      ]
     },
     "execution_count": 33,
     "metadata": {},
     "output_type": "execute_result"
    }
   ],
   "source": [
    "DT=DecisionTreeClassifier()\n",
    "DT.fit(X_train,y_train)\n",
    "DT.score(X_train,y_train)"
   ]
  },
  {
   "cell_type": "code",
   "execution_count": 34,
   "metadata": {},
   "outputs": [
    {
     "data": {
      "text/plain": [
       "0.904019688269073"
      ]
     },
     "execution_count": 34,
     "metadata": {},
     "output_type": "execute_result"
    }
   ],
   "source": [
    "DT.score(X_test,y_test)"
   ]
  },
  {
   "cell_type": "code",
   "execution_count": 35,
   "metadata": {},
   "outputs": [],
   "source": [
    "y_pred_DT=DT.predict(X_test)"
   ]
  },
  {
   "cell_type": "code",
   "execution_count": 36,
   "metadata": {},
   "outputs": [
    {
     "data": {
      "text/plain": [
       "<sklearn.metrics._plot.confusion_matrix.ConfusionMatrixDisplay at 0xa262c36a30>"
      ]
     },
     "execution_count": 36,
     "metadata": {},
     "output_type": "execute_result"
    },
    {
     "data": {
      "image/png": "[encoded data removed]",
      "text/plain": [
       "<Figure size 640x480 with 2 Axes>"
      ]
     },
     "metadata": {},
     "output_type": "display_data"
    }
   ],
   "source": [
    "cm=confusion_matrix(y_test,y_pred_DT)\n",
    "cm_display=ConfusionMatrixDisplay(cm)\n",
    "cm_display.plot()"
   ]
  },
  {
   "cell_type": "code",
   "execution_count": 39,
   "metadata": {},
   "outputs": [
    {
     "name": "stdout",
     "output_type": "stream",
     "text": [
      "Accurcay_score for DecisionTreeClassifier is: 0.904019688269073\n",
      "Precison score for Decison Tree Classifier is: 0.9046153846153846\n",
      "Recall_score for DecsionTree Classifier is: 0.9144634525660964\n"
     ]
    }
   ],
   "source": [
    "print(\"Accurcay_score for DecisionTreeClassifier is:\",accuracy_score(y_test,y_pred_DT))\n",
    "print(\"Precison score for Decison Tree Classifier is:\",precision_score(y_test,y_pred_DT))\n",
    "print(\"Recall_score for DecsionTree Classifier is:\",recall_score(y_test,y_pred_DT))"
   ]
  },
  {
   "cell_type": "code",
   "execution_count": 40,
   "metadata": {},
   "outputs": [
    {
     "data": {
      "text/plain": [
       "0.9991794871794871"
      ]
     },
     "execution_count": 40,
     "metadata": {},
     "output_type": "execute_result"
    }
   ],
   "source": [
    "RF=RandomForestClassifier()\n",
    "RF.fit(X_train,y_train)\n",
    "RF.score(X_train,y_train)"
   ]
  },
  {
   "cell_type": "code",
   "execution_count": 41,
   "metadata": {},
   "outputs": [
    {
     "data": {
      "text/plain": [
       "0.9606234618539786"
      ]
     },
     "execution_count": 41,
     "metadata": {},
     "output_type": "execute_result"
    }
   ],
   "source": [
    "RF.score(X_test,y_test)"
   ]
  },
  {
   "cell_type": "code",
   "execution_count": 42,
   "metadata": {},
   "outputs": [],
   "source": [
    "y_pred_RF=RF.predict(X_test)"
   ]
  },
  {
   "cell_type": "code",
   "execution_count": 43,
   "metadata": {},
   "outputs": [
    {
     "data": {
      "text/plain": [
       "<sklearn.metrics._plot.confusion_matrix.ConfusionMatrixDisplay at 0xa262bf9eb0>"
      ]
     },
     "execution_count": 43,
     "metadata": {},
     "output_type": "execute_result"
    },
    {
     "data": {
      "image/png": "[encoded data removed]",
      "text/plain": [
       "<Figure size 640x480 with 2 Axes>"
      ]
     },
     "metadata": {},
     "output_type": "display_data"
    }
   ],
   "source": [
    "cm=confusion_matrix(y_test,y_pred_RF)\n",
    "cm_display=ConfusionMatrixDisplay(cm)\n",
    "cm_display.plot()"
   ]
  },
  {
   "cell_type": "code",
   "execution_count": 44,
   "metadata": {},
   "outputs": [
    {
     "name": "stdout",
     "output_type": "stream",
     "text": [
      "Accurcay_score for RandomForestClassifier is: 0.9606234618539786\n",
      "Precison score for RandomForestClassifier is: 0.9917355371900827\n",
      "Recall_score for RandomForestClassifier is: 0.9331259720062208\n"
     ]
    }
   ],
   "source": [
    "print(\"Accurcay_score for RandomForestClassifier is:\",accuracy_score(y_test,y_pred_RF))\n",
    "print(\"Precison score for RandomForestClassifier is:\",precision_score(y_test,y_pred_RF))\n",
    "print(\"Recall_score for RandomForestClassifier is:\",recall_score(y_test,y_pred_RF))"
   ]
  },
  {
   "cell_type": "code",
   "execution_count": 47,
   "metadata": {},
   "outputs": [],
   "source": [
    "# Formating into Pickle:\n",
    "pickle.dump(RF,open(r\"E:\\Protfolio Projects\\Machince Learning\\cyberbylling detection\\Notebook/RF.pkl\",\"wb\"))"
   ]
  },
  {
   "cell_type": "code",
   "execution_count": 48,
   "metadata": {},
   "outputs": [],
   "source": [
    "loaded_model=pickle.load(open(r\"E:\\Protfolio Projects\\Machince Learning\\cyberbylling detection\\Notebook\\RF.pkl\",\"rb\"))"
   ]
  },
  {
   "cell_type": "code",
   "execution_count": 50,
   "metadata": {},
   "outputs": [
    {
     "data": {
      "text/plain": [
       "array([1, 1, 0, ..., 1, 1, 0], dtype=int64)"
      ]
     },
     "execution_count": 50,
     "metadata": {},
     "output_type": "execute_result"
    }
   ],
   "source": [
    "y_prediction=loaded_model.predict(X_test)\n",
    "y_prediction"
   ]
  },
  {
   "cell_type": "code",
   "execution_count": 56,
   "metadata": {},
   "outputs": [
    {
     "data": {
      "text/plain": [
       "['3:26 hahah my boyfriend showed this song to me I love it Me tooo Is she having a seizure. Omg u have a corgi I am training for the Olympics and I am Russian You want some rapes... LOL']"
      ]
     },
     "execution_count": 56,
     "metadata": {},
     "output_type": "execute_result"
    }
   ],
   "source": [
    "comments=[data[\"Text\"][2]]\n",
    "comments"
   ]
  },
  {
   "cell_type": "code",
   "execution_count": 57,
   "metadata": {},
   "outputs": [
    {
     "data": {
      "text/plain": [
       "array([1], dtype=int64)"
      ]
     },
     "execution_count": 57,
     "metadata": {},
     "output_type": "execute_result"
    }
   ],
   "source": [
    "vect=TFIDF.transform(comments).toarray()\n",
    "result=loaded_model.predict(vect)\n",
    "result"
   ]
  },
  {
   "cell_type": "code",
   "execution_count": 58,
   "metadata": {},
   "outputs": [
    {
     "name": "stdout",
     "output_type": "stream",
     "text": [
      "Non_cyberbylling\n"
     ]
    }
   ],
   "source": [
    "if result==0:\n",
    "    print(\"Cyberbylling\")\n",
    "else:\n",
    "    print(\"Non_cyberbylling\")"
   ]
  }
 ],
 "metadata": {
  "kernelspec": {
   "display_name": "Python 3",
   "language": "python",
   "name": "python3"
  },
  "language_info": {
   "codemirror_mode": {
    "name": "ipython",
    "version": 3
   },
   "file_extension": ".py",
   "mimetype": "text/x-python",
   "name": "python",
   "nbconvert_exporter": "python",
   "pygments_lexer": "ipython3",
   "version": "3.8.0"
  },
  "orig_nbformat": 4
 },
 "nbformat": 4,
 "nbformat_minor": 2
}
