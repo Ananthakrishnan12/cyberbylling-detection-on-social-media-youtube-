{
 "cells": [
  {
   "attachments": {},
   "cell_type": "markdown",
   "metadata": {},
   "source": [
    "# Importing Required Libaries:"
   ]
  },
  {
   "cell_type": "code",
   "execution_count": 187,
   "metadata": {},
   "outputs": [
    {
     "name": "stderr",
     "output_type": "stream",
     "text": [
      "[nltk_data] Downloading package punkt to\n",
      "[nltk_data]     C:\\Users\\gts\\AppData\\Roaming\\nltk_data...\n",
      "[nltk_data]   Package punkt is already up-to-date!\n",
      "[nltk_data] Downloading package stopwords to\n",
      "[nltk_data]     C:\\Users\\gts\\AppData\\Roaming\\nltk_data...\n",
      "[nltk_data]   Package stopwords is already up-to-date!\n",
      "[nltk_data] Downloading package wordnet to\n",
      "[nltk_data]     C:\\Users\\gts\\AppData\\Roaming\\nltk_data...\n",
      "[nltk_data]   Package wordnet is already up-to-date!\n"
     ]
    },
    {
     "data": {
      "text/plain": [
       "True"
      ]
     },
     "execution_count": 187,
     "metadata": {},
     "output_type": "execute_result"
    }
   ],
   "source": [
    "import nltk\n",
    "nltk.download('punkt')\n",
    "nltk.download('stopwords')\n",
    "nltk.download('wordnet')"
   ]
  },
  {
   "cell_type": "code",
   "execution_count": 188,
   "metadata": {},
   "outputs": [],
   "source": [
    "import numpy as np\n",
    "import pandas as pd\n",
    "import matplotlib.pyplot as plt\n",
    "import seaborn as sns\n",
    "import re\n",
    "import unidecode\n",
    "from imblearn.over_sampling import SMOTE\n",
    "from nltk.corpus import stopwords\n",
    "from nltk.tokenize import word_tokenize\n",
    "from nltk.stem import WordNetLemmatizer\n",
    "from sklearn.feature_extraction.text import TfidfVectorizer\n",
    "from sklearn.model_selection import train_test_split\n",
    "\n",
    "from sklearn.tree import DecisionTreeClassifier\n",
    "from sklearn.ensemble import RandomForestClassifier\n",
    "from sklearn.svm import SVC\n",
    "from sklearn.naive_bayes import GaussianNB\n",
    "\n",
    "from sklearn.metrics import precision_score,recall_score,accuracy_score,confusion_matrix,ConfusionMatrixDisplay\n",
    "\n",
    "import warnings\n",
    "warnings.simplefilter(\"ignore\")"
   ]
  },
  {
   "attachments": {},
   "cell_type": "markdown",
   "metadata": {},
   "source": [
    "# Read the Data:"
   ]
  },
  {
   "cell_type": "code",
   "execution_count": 189,
   "metadata": {},
   "outputs": [],
   "source": [
    "data=pd.read_csv(r\"E:\\Ak\\oWn\\cyberbylling-main\\Dataset\\youtube_parsed_dataset.csv\")"
   ]
  },
  {
   "attachments": {},
   "cell_type": "markdown",
   "metadata": {},
   "source": [
    "# Data Description:"
   ]
  },
  {
   "cell_type": "code",
   "execution_count": 190,
   "metadata": {},
   "outputs": [
    {
     "data": {
      "text/html": [
       "<div>\n",
       "<style scoped>\n",
       "    .dataframe tbody tr th:only-of-type {\n",
       "        vertical-align: middle;\n",
       "    }\n",
       "\n",
       "    .dataframe tbody tr th {\n",
       "        vertical-align: top;\n",
       "    }\n",
       "\n",
       "    .dataframe thead th {\n",
       "        text-align: right;\n",
       "    }\n",
       "</style>\n",
       "<table border=\"1\" class=\"dataframe\">\n",
       "  <thead>\n",
       "    <tr style=\"text-align: right;\">\n",
       "      <th></th>\n",
       "      <th>index</th>\n",
       "      <th>UserIndex</th>\n",
       "      <th>Text</th>\n",
       "      <th>Number of Comments</th>\n",
       "      <th>Number of Subscribers</th>\n",
       "      <th>Membership Duration</th>\n",
       "      <th>Number of Uploads</th>\n",
       "      <th>Profanity in UserID</th>\n",
       "      <th>Age</th>\n",
       "      <th>oh_label</th>\n",
       "    </tr>\n",
       "  </thead>\n",
       "  <tbody>\n",
       "    <tr>\n",
       "      <th>0</th>\n",
       "      <td>0</td>\n",
       "      <td>X1</td>\n",
       "      <td>Does N.e.bodyelse Hear her Crazy ass Screamin ...</td>\n",
       "      <td>10</td>\n",
       "      <td>1</td>\n",
       "      <td>3</td>\n",
       "      <td>3</td>\n",
       "      <td>0</td>\n",
       "      <td>15</td>\n",
       "      <td>0</td>\n",
       "    </tr>\n",
       "    <tr>\n",
       "      <th>1</th>\n",
       "      <td>1</td>\n",
       "      <td>X2</td>\n",
       "      <td>There are so many things that are incorrect wi...</td>\n",
       "      <td>3</td>\n",
       "      <td>0</td>\n",
       "      <td>6</td>\n",
       "      <td>5</td>\n",
       "      <td>0</td>\n",
       "      <td>31</td>\n",
       "      <td>0</td>\n",
       "    </tr>\n",
       "    <tr>\n",
       "      <th>2</th>\n",
       "      <td>2</td>\n",
       "      <td>X3</td>\n",
       "      <td>3:26 hahah my boyfriend showed this song to me...</td>\n",
       "      <td>7</td>\n",
       "      <td>0</td>\n",
       "      <td>3</td>\n",
       "      <td>5</td>\n",
       "      <td>0</td>\n",
       "      <td>43</td>\n",
       "      <td>1</td>\n",
       "    </tr>\n",
       "    <tr>\n",
       "      <th>3</th>\n",
       "      <td>3</td>\n",
       "      <td>X2218</td>\n",
       "      <td>dick beyonce fuck y a ass hole you are truely ...</td>\n",
       "      <td>34</td>\n",
       "      <td>0</td>\n",
       "      <td>3</td>\n",
       "      <td>5</td>\n",
       "      <td>0</td>\n",
       "      <td>44</td>\n",
       "      <td>1</td>\n",
       "    </tr>\n",
       "    <tr>\n",
       "      <th>4</th>\n",
       "      <td>4</td>\n",
       "      <td>X5</td>\n",
       "      <td>DongHaeTaemin and Kai ;A; luhansehun and bacon...</td>\n",
       "      <td>11</td>\n",
       "      <td>173</td>\n",
       "      <td>5</td>\n",
       "      <td>5</td>\n",
       "      <td>0</td>\n",
       "      <td>21</td>\n",
       "      <td>0</td>\n",
       "    </tr>\n",
       "    <tr>\n",
       "      <th>5</th>\n",
       "      <td>5</td>\n",
       "      <td>X6</td>\n",
       "      <td>jejus lindos de maiss carlos canta um ritmo ma...</td>\n",
       "      <td>12</td>\n",
       "      <td>1</td>\n",
       "      <td>3</td>\n",
       "      <td>3</td>\n",
       "      <td>0</td>\n",
       "      <td>27</td>\n",
       "      <td>0</td>\n",
       "    </tr>\n",
       "    <tr>\n",
       "      <th>6</th>\n",
       "      <td>6</td>\n",
       "      <td>X7</td>\n",
       "      <td>Ale pajac</td>\n",
       "      <td>1</td>\n",
       "      <td>0</td>\n",
       "      <td>3</td>\n",
       "      <td>5</td>\n",
       "      <td>0</td>\n",
       "      <td>23</td>\n",
       "      <td>0</td>\n",
       "    </tr>\n",
       "    <tr>\n",
       "      <th>7</th>\n",
       "      <td>7</td>\n",
       "      <td>X8</td>\n",
       "      <td>How's ,freedom, working out for you? Still liv...</td>\n",
       "      <td>19</td>\n",
       "      <td>1</td>\n",
       "      <td>6</td>\n",
       "      <td>5</td>\n",
       "      <td>0</td>\n",
       "      <td>56</td>\n",
       "      <td>0</td>\n",
       "    </tr>\n",
       "    <tr>\n",
       "      <th>8</th>\n",
       "      <td>8</td>\n",
       "      <td>X9</td>\n",
       "      <td>nicki's too sexy holy hell oh. my. god. DON'T ...</td>\n",
       "      <td>8</td>\n",
       "      <td>0</td>\n",
       "      <td>3</td>\n",
       "      <td>5</td>\n",
       "      <td>0</td>\n",
       "      <td>20</td>\n",
       "      <td>0</td>\n",
       "    </tr>\n",
       "    <tr>\n",
       "      <th>9</th>\n",
       "      <td>9</td>\n",
       "      <td>X10</td>\n",
       "      <td>stupid video George Z had to do that in self d...</td>\n",
       "      <td>6</td>\n",
       "      <td>0</td>\n",
       "      <td>2</td>\n",
       "      <td>3</td>\n",
       "      <td>0</td>\n",
       "      <td>15</td>\n",
       "      <td>0</td>\n",
       "    </tr>\n",
       "  </tbody>\n",
       "</table>\n",
       "</div>"
      ],
      "text/plain": [
       "   index UserIndex                                               Text  \\\n",
       "0      0        X1  Does N.e.bodyelse Hear her Crazy ass Screamin ...   \n",
       "1      1        X2  There are so many things that are incorrect wi...   \n",
       "2      2        X3  3:26 hahah my boyfriend showed this song to me...   \n",
       "3      3     X2218  dick beyonce fuck y a ass hole you are truely ...   \n",
       "4      4        X5  DongHaeTaemin and Kai ;A; luhansehun and bacon...   \n",
       "5      5        X6  jejus lindos de maiss carlos canta um ritmo ma...   \n",
       "6      6        X7                                          Ale pajac   \n",
       "7      7        X8  How's ,freedom, working out for you? Still liv...   \n",
       "8      8        X9  nicki's too sexy holy hell oh. my. god. DON'T ...   \n",
       "9      9       X10  stupid video George Z had to do that in self d...   \n",
       "\n",
       "   Number of Comments  Number of Subscribers  Membership Duration  \\\n",
       "0                  10                      1                    3   \n",
       "1                   3                      0                    6   \n",
       "2                   7                      0                    3   \n",
       "3                  34                      0                    3   \n",
       "4                  11                    173                    5   \n",
       "5                  12                      1                    3   \n",
       "6                   1                      0                    3   \n",
       "7                  19                      1                    6   \n",
       "8                   8                      0                    3   \n",
       "9                   6                      0                    2   \n",
       "\n",
       "   Number of Uploads  Profanity in UserID  Age  oh_label  \n",
       "0                  3                    0   15         0  \n",
       "1                  5                    0   31         0  \n",
       "2                  5                    0   43         1  \n",
       "3                  5                    0   44         1  \n",
       "4                  5                    0   21         0  \n",
       "5                  3                    0   27         0  \n",
       "6                  5                    0   23         0  \n",
       "7                  5                    0   56         0  \n",
       "8                  5                    0   20         0  \n",
       "9                  3                    0   15         0  "
      ]
     },
     "execution_count": 190,
     "metadata": {},
     "output_type": "execute_result"
    }
   ],
   "source": [
    "data.head(10)"
   ]
  },
  {
   "cell_type": "code",
   "execution_count": 191,
   "metadata": {},
   "outputs": [
    {
     "name": "stdout",
     "output_type": "stream",
     "text": [
      "No.of rows in dataset: 3464\n",
      "No.of columns in dataset: 10\n"
     ]
    }
   ],
   "source": [
    "print(\"No.of rows in dataset:\",data.shape[0])\n",
    "print(\"No.of columns in dataset:\",data.shape[1])"
   ]
  },
  {
   "attachments": {},
   "cell_type": "markdown",
   "metadata": {},
   "source": [
    "# Exploring the Data:"
   ]
  },
  {
   "attachments": {},
   "cell_type": "markdown",
   "metadata": {},
   "source": [
    "#1) Check the null values:\n",
    "\n",
    "#2) check the duplicate values in dataset:\n",
    "\n",
    "#3) check the dtype of the dataset:"
   ]
  },
  {
   "cell_type": "code",
   "execution_count": 192,
   "metadata": {},
   "outputs": [
    {
     "data": {
      "text/plain": [
       "index                    0\n",
       "UserIndex                0\n",
       "Text                     0\n",
       "Number of Comments       0\n",
       "Number of Subscribers    0\n",
       "Membership Duration      0\n",
       "Number of Uploads        0\n",
       "Profanity in UserID      0\n",
       "Age                      0\n",
       "oh_label                 0\n",
       "dtype: int64"
      ]
     },
     "execution_count": 192,
     "metadata": {},
     "output_type": "execute_result"
    }
   ],
   "source": [
    "data.isnull().sum()"
   ]
  },
  {
   "cell_type": "code",
   "execution_count": 193,
   "metadata": {},
   "outputs": [
    {
     "data": {
      "text/plain": [
       "0"
      ]
     },
     "execution_count": 193,
     "metadata": {},
     "output_type": "execute_result"
    }
   ],
   "source": [
    "data.duplicated().sum()"
   ]
  },
  {
   "cell_type": "code",
   "execution_count": 194,
   "metadata": {},
   "outputs": [
    {
     "name": "stdout",
     "output_type": "stream",
     "text": [
      "<class 'pandas.core.frame.DataFrame'>\n",
      "RangeIndex: 3464 entries, 0 to 3463\n",
      "Data columns (total 10 columns):\n",
      " #   Column                 Non-Null Count  Dtype \n",
      "---  ------                 --------------  ----- \n",
      " 0   index                  3464 non-null   int64 \n",
      " 1   UserIndex              3464 non-null   object\n",
      " 2   Text                   3464 non-null   object\n",
      " 3   Number of Comments     3464 non-null   int64 \n",
      " 4   Number of Subscribers  3464 non-null   int64 \n",
      " 5   Membership Duration    3464 non-null   int64 \n",
      " 6   Number of Uploads      3464 non-null   int64 \n",
      " 7   Profanity in UserID    3464 non-null   int64 \n",
      " 8   Age                    3464 non-null   int64 \n",
      " 9   oh_label               3464 non-null   int64 \n",
      "dtypes: int64(8), object(2)\n",
      "memory usage: 270.8+ KB\n"
     ]
    }
   ],
   "source": [
    "data.info()"
   ]
  },
  {
   "cell_type": "code",
   "execution_count": 195,
   "metadata": {},
   "outputs": [
    {
     "data": {
      "text/plain": [
       "0    3047\n",
       "1     417\n",
       "Name: oh_label, dtype: int64"
      ]
     },
     "execution_count": 195,
     "metadata": {},
     "output_type": "execute_result"
    }
   ],
   "source": [
    "data[\"oh_label\"].value_counts()"
   ]
  },
  {
   "attachments": {},
   "cell_type": "markdown",
   "metadata": {},
   "source": [
    "# Exploring Data Clasess:\n",
    "#1) class= 0 represents Non_cyberbylling, class=1 represents cyberbylling"
   ]
  },
  {
   "attachments": {},
   "cell_type": "markdown",
   "metadata": {},
   "source": [
    "# Exploring the Data (Data visualization):"
   ]
  },
  {
   "cell_type": "code",
   "execution_count": 196,
   "metadata": {},
   "outputs": [
    {
     "data": {
      "image/png": "[encoded data removed]",
      "text/plain": [
       "<Figure size 640x480 with 1 Axes>"
      ]
     },
     "metadata": {},
     "output_type": "display_data"
    }
   ],
   "source": [
    "target_variable= data['oh_label'].value_counts()\n",
    "target_variable.plot(kind='bar')\n",
    "plt.title('Target Classes')\n",
    "plt.xlabel('Labels')\n",
    "plt.ylabel('Number of Tweets')\n",
    "plt.show()"
   ]
  },
  {
   "attachments": {},
   "cell_type": "markdown",
   "metadata": {},
   "source": [
    "# Data Transformation:"
   ]
  },
  {
   "cell_type": "code",
   "execution_count": 197,
   "metadata": {},
   "outputs": [
    {
     "data": {
      "text/html": [
       "<div>\n",
       "<style scoped>\n",
       "    .dataframe tbody tr th:only-of-type {\n",
       "        vertical-align: middle;\n",
       "    }\n",
       "\n",
       "    .dataframe tbody tr th {\n",
       "        vertical-align: top;\n",
       "    }\n",
       "\n",
       "    .dataframe thead th {\n",
       "        text-align: right;\n",
       "    }\n",
       "</style>\n",
       "<table border=\"1\" class=\"dataframe\">\n",
       "  <thead>\n",
       "    <tr style=\"text-align: right;\">\n",
       "      <th></th>\n",
       "      <th>Text</th>\n",
       "      <th>oh_label</th>\n",
       "    </tr>\n",
       "  </thead>\n",
       "  <tbody>\n",
       "    <tr>\n",
       "      <th>0</th>\n",
       "      <td>Does N.e.bodyelse Hear her Crazy ass Screamin ...</td>\n",
       "      <td>0</td>\n",
       "    </tr>\n",
       "    <tr>\n",
       "      <th>1</th>\n",
       "      <td>There are so many things that are incorrect wi...</td>\n",
       "      <td>0</td>\n",
       "    </tr>\n",
       "    <tr>\n",
       "      <th>2</th>\n",
       "      <td>3:26 hahah my boyfriend showed this song to me...</td>\n",
       "      <td>1</td>\n",
       "    </tr>\n",
       "    <tr>\n",
       "      <th>3</th>\n",
       "      <td>dick beyonce fuck y a ass hole you are truely ...</td>\n",
       "      <td>1</td>\n",
       "    </tr>\n",
       "    <tr>\n",
       "      <th>4</th>\n",
       "      <td>DongHaeTaemin and Kai ;A; luhansehun and bacon...</td>\n",
       "      <td>0</td>\n",
       "    </tr>\n",
       "  </tbody>\n",
       "</table>\n",
       "</div>"
      ],
      "text/plain": [
       "                                                Text  oh_label\n",
       "0  Does N.e.bodyelse Hear her Crazy ass Screamin ...         0\n",
       "1  There are so many things that are incorrect wi...         0\n",
       "2  3:26 hahah my boyfriend showed this song to me...         1\n",
       "3  dick beyonce fuck y a ass hole you are truely ...         1\n",
       "4  DongHaeTaemin and Kai ;A; luhansehun and bacon...         0"
      ]
     },
     "execution_count": 197,
     "metadata": {},
     "output_type": "execute_result"
    }
   ],
   "source": [
    "cyber_data=data.filter(items=[\"Text\",\"oh_label\"])\n",
    "cyber_data.head()"
   ]
  },
  {
   "cell_type": "code",
   "execution_count": 198,
   "metadata": {},
   "outputs": [],
   "source": [
    "def case_convert():\n",
    "    cyber_data.Text=[i.lower() for i in cyber_data.Text.values]\n",
    "\n",
    "def remove_accents():\n",
    "    cyber_data.Text=[unidecode.unidecode(text) for text in cyber_data.Text.values]\n",
    "\n",
    "def remove_specials():\n",
    "    cyber_data.Text =  [re.sub(r\"[^a-zA-Z]\",\" \",text) for text in cyber_data.Text.values]\n",
    "\n",
    "def remove_stopwords():\n",
    "    stopwords_set=set(stopwords.words(\"english\"))\n",
    "    cyber_data.Text=[word for word in cyber_data.Text if word not in stopwords_set]\n",
    "\n",
    "def normalize_spaces():\n",
    "    cyber_data.Text = [re.sub(r\"\\s+\",\" \",text) for text in cyber_data.Text.values]\n",
    "\n",
    "def apply_lemmatizer():\n",
    "    lemmatizer=WordNetLemmatizer()\n",
    "    cyber_data.Text=[lemmatizer.lemmatize(word) for word in cyber_data.Text.values]"
   ]
  },
  {
   "cell_type": "code",
   "execution_count": 199,
   "metadata": {},
   "outputs": [],
   "source": [
    "case_convert()\n",
    "remove_accents()\n",
    "remove_specials()\n",
    "remove_stopwords()\n",
    "normalize_spaces()\n",
    "apply_lemmatizer()"
   ]
  },
  {
   "cell_type": "code",
   "execution_count": 200,
   "metadata": {},
   "outputs": [
    {
     "name": "stdout",
     "output_type": "stream",
     "text": [
      "                                                   Text  oh_label\n",
      "0     does n e bodyelse hear her crazy ass screamin ...         0\n",
      "1     there are so many things that are incorrect wi...         0\n",
      "2      hahah my boyfriend showed this song to me i l...         1\n",
      "3     dick beyonce fuck y a ass hole you are truely ...         1\n",
      "4     donghaetaemin and kai a luhansehun and bacon x...         0\n",
      "...                                                 ...       ...\n",
      "3459  she pretty i love this song i miss the old kel...         1\n",
      "3460  status online im zxkillergirlzx i m zxkillergi...         0\n",
      "3461  jr so cute exo m better i agree like yeah yeah...         0\n",
      "3462                                                            0\n",
      "3463  great video and merry christmas from greece wh...         0\n",
      "\n",
      "[3464 rows x 2 columns]\n"
     ]
    }
   ],
   "source": [
    "print(cyber_data)"
   ]
  },
  {
   "cell_type": "code",
   "execution_count": 201,
   "metadata": {},
   "outputs": [],
   "source": [
    "data_class_cyberbylling = cyber_data[cyber_data[\"oh_label\"]==1]\n",
    "data_class_nonbylling = cyber_data[cyber_data[\"oh_label\"]==0]"
   ]
  },
  {
   "cell_type": "code",
   "execution_count": 202,
   "metadata": {},
   "outputs": [
    {
     "name": "stdout",
     "output_type": "stream",
     "text": [
      "(417, 2)\n",
      "(3047, 2)\n"
     ]
    }
   ],
   "source": [
    "print(data_class_cyberbylling.shape)\n",
    "print(data_class_nonbylling.shape)"
   ]
  },
  {
   "cell_type": "code",
   "execution_count": 203,
   "metadata": {},
   "outputs": [],
   "source": [
    "data_class_cyberbylling=data_class_cyberbylling.sample(417)\n",
    "data_class_nonbylling=data_class_nonbylling.sample(417)"
   ]
  },
  {
   "cell_type": "code",
   "execution_count": 204,
   "metadata": {},
   "outputs": [],
   "source": [
    "cyber_data=pd.concat([data_class_cyberbylling,data_class_nonbylling],axis=0)"
   ]
  },
  {
   "cell_type": "code",
   "execution_count": 205,
   "metadata": {},
   "outputs": [
    {
     "data": {
      "text/plain": [
       "(834, 2)"
      ]
     },
     "execution_count": 205,
     "metadata": {},
     "output_type": "execute_result"
    }
   ],
   "source": [
    "cyber_data.shape"
   ]
  },
  {
   "cell_type": "code",
   "execution_count": 206,
   "metadata": {},
   "outputs": [
    {
     "data": {
      "text/plain": [
       "1234    shut up white boy the jews shake n bake ie omg...\n",
       "564     jessie you are the best i love you oh my god i...\n",
       "1722    omg u really saw justin bieber thats so exciti...\n",
       "2594    you re gorgeous i love these looks you got a n...\n",
       "511     i am meeting them before the show on th feb th...\n",
       "                              ...                        \n",
       "1917    press for my christmas present to you wanna he...\n",
       "2708    last day of school we did a flash mod to this ...\n",
       "824     no one can do a show like madonna she s the qu...\n",
       "3227    if i could ban one fkin thing from youtube jus...\n",
       "1051    the black guy that broke day tv defiantly lost...\n",
       "Name: Text, Length: 834, dtype: object"
      ]
     },
     "execution_count": 206,
     "metadata": {},
     "output_type": "execute_result"
    }
   ],
   "source": [
    "X=cyber_data[\"Text\"]\n",
    "X"
   ]
  },
  {
   "cell_type": "code",
   "execution_count": 207,
   "metadata": {},
   "outputs": [
    {
     "data": {
      "text/plain": [
       "1234    1\n",
       "564     1\n",
       "1722    1\n",
       "2594    1\n",
       "511     1\n",
       "       ..\n",
       "1917    0\n",
       "2708    0\n",
       "824     0\n",
       "3227    0\n",
       "1051    0\n",
       "Name: oh_label, Length: 834, dtype: int64"
      ]
     },
     "execution_count": 207,
     "metadata": {},
     "output_type": "execute_result"
    }
   ],
   "source": [
    "y=cyber_data[\"oh_label\"]\n",
    "y"
   ]
  },
  {
   "cell_type": "code",
   "execution_count": 208,
   "metadata": {},
   "outputs": [],
   "source": [
    "TFIDF=TfidfVectorizer()\n",
    "X=TFIDF.fit_transform(X)"
   ]
  },
  {
   "cell_type": "code",
   "execution_count": 209,
   "metadata": {},
   "outputs": [],
   "source": [
    "X_train,X_test,y_train,y_test=train_test_split(X,y,test_size=0.20,random_state=42)"
   ]
  },
  {
   "cell_type": "code",
   "execution_count": 210,
   "metadata": {},
   "outputs": [
    {
     "name": "stdout",
     "output_type": "stream",
     "text": [
      "(667, 19439)\n",
      "(167, 19439)\n",
      "(667,)\n",
      "(167,)\n"
     ]
    }
   ],
   "source": [
    "print(X_train.shape)\n",
    "print(X_test.shape)\n",
    "print(y_train.shape)\n",
    "print(y_test.shape)"
   ]
  },
  {
   "attachments": {},
   "cell_type": "markdown",
   "metadata": {},
   "source": [
    "# Model Training and Evaluation:"
   ]
  },
  {
   "cell_type": "code",
   "execution_count": 211,
   "metadata": {},
   "outputs": [],
   "source": [
    "def evaluate_models(true,predicted):\n",
    "    specifivity=precision_score(true,predicted)\n",
    "    sensitivity=recall_score(true,predicted)\n",
    "    Accuracy=accuracy_score(true,predicted)\n",
    "    return specifivity,sensitivity,Accuracy"
   ]
  },
  {
   "cell_type": "code",
   "execution_count": 212,
   "metadata": {},
   "outputs": [
    {
     "name": "stdout",
     "output_type": "stream",
     "text": [
      "0\n",
      "DecisionTreeClassifier\n",
      "Model Performance for Training Test\n",
      "Specificivity:1.0000\n",
      "Sensitivity:0.9942\n",
      "Accuracy:0.9970\n",
      "**************************************************************************\n",
      "Model Performance for Testing Test\n",
      "Specificivity:0.5067\n",
      "Sensitivity:0.5067\n",
      "Accuracy:0.5569\n",
      "1\n",
      "RandomForestClassifier\n",
      "Model Performance for Training Test\n",
      "Specificivity:0.9942\n",
      "Sensitivity:1.0000\n",
      "Accuracy:0.9970\n",
      "**************************************************************************\n",
      "Model Performance for Testing Test\n",
      "Specificivity:0.5222\n",
      "Sensitivity:0.6267\n",
      "Accuracy:0.5749\n",
      "2\n",
      "SupportVectorClassifier\n",
      "Model Performance for Training Test\n",
      "Specificivity:0.9855\n",
      "Sensitivity:0.9942\n",
      "Accuracy:0.9895\n",
      "**************************************************************************\n",
      "Model Performance for Testing Test\n",
      "Specificivity:0.5974\n",
      "Sensitivity:0.6133\n",
      "Accuracy:0.6407\n"
     ]
    }
   ],
   "source": [
    "models={\n",
    "    \"DecisionTreeClassifier\":DecisionTreeClassifier(),\n",
    "    \"RandomForestClassifier\":RandomForestClassifier(),\n",
    "    \"SupportVectorClassifier\":SVC(),\n",
    "}\n",
    "\n",
    "model_list=[]\n",
    "accuracy_list=[]\n",
    "\n",
    "for i in range(len(list(models))):\n",
    "    print(i)\n",
    "    model=list(models.values())[i]\n",
    "    model.fit(X_train,y_train)\n",
    "\n",
    "    #Make predictions:\n",
    "    y_train_pred=model.predict(X_train)\n",
    "    y_test_pred=model.predict(X_test)\n",
    "\n",
    "    #Evaluate train and Test datasets:\n",
    "    model_train_specifivity,model_train_sensitivity,train_Accuracy=evaluate_models(y_train,y_train_pred)\n",
    "    model_test_specifivity,model_test_sensitvity,test_Accuracy=evaluate_models(y_test,y_test_pred)\n",
    "\n",
    "    print(list(models.keys())[i])\n",
    "    model_list.append(list(models.keys())[i])\n",
    "    accuracy_list.append(test_Accuracy)\n",
    "    \n",
    "\n",
    "    print(\"Model Performance for Training Test\")\n",
    "    print(\"Specificivity:{:.4f}\".format(model_train_specifivity))\n",
    "    print(\"Sensitivity:{:.4f}\".format(model_train_sensitivity))\n",
    "    print(\"Accuracy:{:.4f}\".format(train_Accuracy))\n",
    "    print(\"**************************************************************************\")\n",
    "    print(\"Model Performance for Testing Test\")\n",
    "    print(\"Specificivity:{:.4f}\".format(model_test_specifivity))\n",
    "    print(\"Sensitivity:{:.4f}\".format(model_test_sensitvity))\n",
    "    print(\"Accuracy:{:.4f}\".format(test_Accuracy))"
   ]
  },
  {
   "attachments": {},
   "cell_type": "markdown",
   "metadata": {},
   "source": [
    "# Results:"
   ]
  },
  {
   "cell_type": "code",
   "execution_count": 213,
   "metadata": {},
   "outputs": [
    {
     "data": {
      "text/html": [
       "<div>\n",
       "<style scoped>\n",
       "    .dataframe tbody tr th:only-of-type {\n",
       "        vertical-align: middle;\n",
       "    }\n",
       "\n",
       "    .dataframe tbody tr th {\n",
       "        vertical-align: top;\n",
       "    }\n",
       "\n",
       "    .dataframe thead th {\n",
       "        text-align: right;\n",
       "    }\n",
       "</style>\n",
       "<table border=\"1\" class=\"dataframe\">\n",
       "  <thead>\n",
       "    <tr style=\"text-align: right;\">\n",
       "      <th></th>\n",
       "      <th>Model_Name</th>\n",
       "      <th>Accuracy</th>\n",
       "    </tr>\n",
       "  </thead>\n",
       "  <tbody>\n",
       "    <tr>\n",
       "      <th>2</th>\n",
       "      <td>SupportVectorClassifier</td>\n",
       "      <td>0.640719</td>\n",
       "    </tr>\n",
       "    <tr>\n",
       "      <th>1</th>\n",
       "      <td>RandomForestClassifier</td>\n",
       "      <td>0.574850</td>\n",
       "    </tr>\n",
       "    <tr>\n",
       "      <th>0</th>\n",
       "      <td>DecisionTreeClassifier</td>\n",
       "      <td>0.556886</td>\n",
       "    </tr>\n",
       "  </tbody>\n",
       "</table>\n",
       "</div>"
      ],
      "text/plain": [
       "                Model_Name  Accuracy\n",
       "2  SupportVectorClassifier  0.640719\n",
       "1   RandomForestClassifier  0.574850\n",
       "0   DecisionTreeClassifier  0.556886"
      ]
     },
     "execution_count": 213,
     "metadata": {},
     "output_type": "execute_result"
    }
   ],
   "source": [
    "pd.DataFrame(list(zip(model_list,accuracy_list)),columns=[\"Model_Name\",\"Accuracy\"]).sort_values(by=[\"Accuracy\"],ascending=False)"
   ]
  },
  {
   "attachments": {},
   "cell_type": "markdown",
   "metadata": {},
   "source": [
    "# Predictions:"
   ]
  },
  {
   "cell_type": "code",
   "execution_count": 214,
   "metadata": {},
   "outputs": [],
   "source": [
    "SVC=SVC()\n",
    "SVC.fit(X_train,y_train)\n",
    "y_pred=SVC.predict(X_test)\n"
   ]
  },
  {
   "cell_type": "code",
   "execution_count": 215,
   "metadata": {},
   "outputs": [
    {
     "data": {
      "text/plain": [
       "array([0, 1, 1, 0, 0, 1, 0, 0, 1, 1, 0, 1, 1, 0, 1, 1, 1, 0, 0, 0, 0, 0,\n",
       "       0, 1, 1, 1, 1, 1, 0, 0, 0, 0, 0, 0, 1, 0, 0, 1, 1, 1, 0, 0, 0, 1,\n",
       "       1, 1, 1, 0, 0, 1, 1, 1, 1, 0, 0, 0, 0, 0, 1, 0, 0, 1, 1, 1, 1, 1,\n",
       "       1, 0, 0, 0, 0, 0, 1, 1, 0, 0, 1, 1, 1, 1, 0, 0, 0, 1, 1, 0, 0, 1,\n",
       "       0, 0, 0, 1, 0, 1, 1, 0, 1, 0, 0, 1, 0, 1, 0, 0, 0, 1, 0, 1, 0, 0,\n",
       "       1, 1, 0, 1, 0, 0, 1, 0, 0, 0, 0, 1, 1, 1, 1, 1, 0, 1, 0, 1, 0, 0,\n",
       "       0, 1, 0, 0, 1, 0, 1, 0, 0, 0, 0, 1, 1, 1, 0, 0, 0, 1, 1, 1, 0, 0,\n",
       "       1, 1, 1, 0, 1, 0, 1, 0, 0, 0, 0, 1, 0], dtype=int64)"
      ]
     },
     "execution_count": 215,
     "metadata": {},
     "output_type": "execute_result"
    }
   ],
   "source": [
    "y_pred"
   ]
  },
  {
   "cell_type": "code",
   "execution_count": 216,
   "metadata": {},
   "outputs": [
    {
     "data": {
      "text/plain": [
       "array([[61, 31],\n",
       "       [29, 46]], dtype=int64)"
      ]
     },
     "execution_count": 216,
     "metadata": {},
     "output_type": "execute_result"
    }
   ],
   "source": [
    "cm=confusion_matrix(y_test,y_pred)\n",
    "cm"
   ]
  },
  {
   "cell_type": "code",
   "execution_count": 217,
   "metadata": {},
   "outputs": [
    {
     "data": {
      "text/plain": [
       "<sklearn.metrics._plot.confusion_matrix.ConfusionMatrixDisplay at 0x1c10a8f7cd0>"
      ]
     },
     "execution_count": 217,
     "metadata": {},
     "output_type": "execute_result"
    },
    {
     "data": {
      "image/png": "[encoded data removed]",
      "text/plain": [
       "<Figure size 640x480 with 2 Axes>"
      ]
     },
     "metadata": {},
     "output_type": "display_data"
    }
   ],
   "source": [
    "cm_display=ConfusionMatrixDisplay(cm)\n",
    "cm_display.plot()"
   ]
  },
  {
   "cell_type": "code",
   "execution_count": 221,
   "metadata": {},
   "outputs": [],
   "source": [
    "comments=[\"HARDSTYLE MOTHA FUCKA!!!!!!!!!!!!!\"]\n",
    "vect = TFIDF.transform(comments).toarray()\n",
    "Result=SVC.predict(vect)\n"
   ]
  },
  {
   "cell_type": "code",
   "execution_count": 222,
   "metadata": {},
   "outputs": [
    {
     "name": "stdout",
     "output_type": "stream",
     "text": [
      "Cyberbylling\n"
     ]
    }
   ],
   "source": [
    "if Result==1:\n",
    "    print(\"Cyberbylling\")\n",
    "else:\n",
    "    print(\"No_bylling\")"
   ]
  }
 ],
 "metadata": {
  "kernelspec": {
   "display_name": "Python 3",
   "language": "python",
   "name": "python3"
  },
  "language_info": {
   "codemirror_mode": {
    "name": "ipython",
    "version": 3
   },
   "file_extension": ".py",
   "mimetype": "text/x-python",
   "name": "python",
   "nbconvert_exporter": "python",
   "pygments_lexer": "ipython3",
   "version": "3.8.0"
  },
  "orig_nbformat": 4
 },
 "nbformat": 4,
 "nbformat_minor": 2
}
